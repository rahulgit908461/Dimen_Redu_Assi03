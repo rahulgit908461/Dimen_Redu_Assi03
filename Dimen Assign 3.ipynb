{
 "cells": [
  {
   "cell_type": "code",
   "execution_count": 1,
   "id": "7a243172-35c4-4dd6-819a-17615b6a0240",
   "metadata": {},
   "outputs": [],
   "source": [
    "#Q1. What are Eigenvalues and Eigenvectors? How are they related to the Eigen-Decomposition approach?\n",
    "#Explain with an example."
   ]
  },
  {
   "cell_type": "code",
   "execution_count": 2,
   "id": "d27082ab-404b-4fc5-a6fb-b759eeddb99f",
   "metadata": {},
   "outputs": [],
   "source": [
    "#In Mathematics, an eigenvector corresponds to the real non zero eigenvalues which point in the direction \n",
    "#stretched by the transformation whereas eigenvalue is considered as a factor by which it is stretched. In case, \n",
    "#if the eigenvalue is negative, the direction of the transformation is negative.\n",
    "#In simple terms, eigenvalues and eigenvectors are the building blocks of linear transformations. Eigenvalues \n",
    "#represent the scaling factor by which a vector is transformed when a linear transformation is applied, while \n",
    "#eigenvectors represent the directions in which the transformation occurs."
   ]
  },
  {
   "cell_type": "code",
   "execution_count": 3,
   "id": "a75f213c-8591-4201-84a3-b19f400aeec3",
   "metadata": {},
   "outputs": [],
   "source": [
    "#Q2. What is eigen decomposition and what is its significance in linear algebra?"
   ]
  },
  {
   "cell_type": "code",
   "execution_count": 4,
   "id": "bd96f277-be09-4285-8d7b-9cdffb4f1883",
   "metadata": {},
   "outputs": [],
   "source": [
    "#Eigenvalues are associated with eigenvectors in Linear algebra. Both terms are used in the analysis of linear\n",
    "#transformations. Eigenvalues are the special set of scalar values that is associated with the set of linear\n",
    "#equations most probably in the matrix equations."
   ]
  },
  {
   "cell_type": "code",
   "execution_count": 5,
   "id": "99e2806c-9644-42f7-b760-1f7438764d82",
   "metadata": {},
   "outputs": [],
   "source": [
    "#Q3. What are the conditions that must be satisfied for a square matrix to be diagonalizable using the\n",
    "#Eigen-Decomposition approach? Provide a brief proof to support your answer."
   ]
  },
  {
   "cell_type": "code",
   "execution_count": 6,
   "id": "98a8bbb8-89f9-44e6-8bb6-d046ed5b0a8a",
   "metadata": {},
   "outputs": [],
   "source": [
    "#Hence, a matrix is diagonalizable if and only if its nilpotent part is zero. Put in another way, a matrix is \n",
    "#diagonalizable if each block in its Jordan form has no nilpotent part; i.e., one-by-one matrix.\n",
    "#Cei = vi, and hence ei = C-1vi. To obtain the columns of D, we multiply by the standard coordinate vectors.\n",
    "#Assume A = CDC-1, where C has columns v1, v2,…, vn, and D is diagonal with diagonal entries λ1, λ2,…, λn. C's\n",
    "#columns are linearly independent since it is invertible."
   ]
  },
  {
   "cell_type": "code",
   "execution_count": 7,
   "id": "e4ca833d-932e-42a3-a285-539408f3a9da",
   "metadata": {},
   "outputs": [],
   "source": [
    "#Q4. What is the significance of the spectral theorem in the context of the Eigen-Decomposition approach?\n",
    "#How is it related to the diagonalizability of a matrix? Explain with an example."
   ]
  },
  {
   "cell_type": "code",
   "execution_count": 8,
   "id": "17a0bd13-6df1-45d3-96af-7086404fa041",
   "metadata": {},
   "outputs": [],
   "source": [
    "#For every real symmetric matrix A there exists an orthogonal matrix Q and a diagonal matrix dM such \n",
    "#that A = (QT dM Q). This decomposition is called a spectral decomposition of A since Q consists of the \n",
    "#eigenvectors of A and the diagonal elements of dM are corresponding eigenvalues."
   ]
  },
  {
   "cell_type": "code",
   "execution_count": 9,
   "id": "2f2adb12-81fc-4e9b-a1bd-30f2c27b4c77",
   "metadata": {},
   "outputs": [],
   "source": [
    "#Q5. How do you find the eigenvalues of a matrix and what do they represent?"
   ]
  },
  {
   "cell_type": "code",
   "execution_count": 10,
   "id": "bcf0198a-2a63-4fba-aec3-299ef421036b",
   "metadata": {},
   "outputs": [],
   "source": [
    "#To find the eigenvalues of a square matrix A: Find its characteristic equation using |A - λI| = 0, where I is \n",
    "#the identity matrix of same order A. Solve it for λ and the solutions would give the eigenvalues."
   ]
  },
  {
   "cell_type": "code",
   "execution_count": 11,
   "id": "d10cfb71-4bae-48b5-a8df-01934b95ab45",
   "metadata": {},
   "outputs": [],
   "source": [
    "#Q6.. What are eigenvectors and how are they related to eigenvalues?"
   ]
  },
  {
   "cell_type": "code",
   "execution_count": 12,
   "id": "b11ce791-6f6f-4ad1-9cae-acd06fd55a7b",
   "metadata": {},
   "outputs": [],
   "source": [
    "#In Mathematics, an eigenvector corresponds to the real non zero eigenvalues which point in the direction \n",
    "#stretched by the transformation whereas eigenvalue is considered as a factor by which it is stretched. In case, \n",
    "#if the eigenvalue is negative, the direction of the transformation is negative."
   ]
  },
  {
   "cell_type": "code",
   "execution_count": 13,
   "id": "0abba064-d9ed-4d48-90d5-4c4730d0a393",
   "metadata": {},
   "outputs": [],
   "source": [
    "#Q7.Can you explain the geometric interpretation of eigenvectors and eigenvalues?"
   ]
  },
  {
   "cell_type": "code",
   "execution_count": 14,
   "id": "61af52c0-c42c-45b7-8601-8c3a12a3ec80",
   "metadata": {},
   "outputs": [],
   "source": [
    "#Geometrically, an eigenvector, corresponding to a real nonzero eigenvalue, points in a direction in which it \n",
    "#is stretched by the transformation and the eigenvalue is the factor by which it is stretched. If the eigenvalue \n",
    "#is negative, the direction is reversed."
   ]
  },
  {
   "cell_type": "code",
   "execution_count": 15,
   "id": "01d9110e-c869-49e2-808e-5d9a77aef1c6",
   "metadata": {},
   "outputs": [],
   "source": [
    "#Q8. What are some real-world applications of eigen decomposition?"
   ]
  },
  {
   "cell_type": "code",
   "execution_count": 16,
   "id": "a2e8f741-ecce-4ef1-a7ec-0512f017520f",
   "metadata": {},
   "outputs": [],
   "source": [
    "#It is used in car design especially car stereo system and also in decoupling three phase system. \n",
    "#Eigendecomposition is particularly useful for analysing the structure of the data matrix in terms of the \n",
    "#eigenvalues and eigenvectors."
   ]
  },
  {
   "cell_type": "code",
   "execution_count": 17,
   "id": "655e6008-930d-4848-acb2-96a9d66981f7",
   "metadata": {},
   "outputs": [],
   "source": [
    "#Q9. Can a matrix have more than one set of eigenvectors and eigenvalues?"
   ]
  },
  {
   "cell_type": "code",
   "execution_count": 18,
   "id": "c0b8e75d-3976-4591-870f-25b36f952753",
   "metadata": {},
   "outputs": [],
   "source": [
    "#Since a nonzero subspace is infinite, every eigenvalue has infinitely many eigenvectors.\n",
    "#(For example, multiplying an eigenvector by a nonzero scalar gives another eigenvector.) On the other hand,\n",
    "#there can be at most n linearly independent eigenvectors of an n × n matrix, since R n has dimension n ."
   ]
  },
  {
   "cell_type": "code",
   "execution_count": 19,
   "id": "31f3e4c0-e55c-4ba9-a6ce-2421c30345c9",
   "metadata": {},
   "outputs": [],
   "source": [
    "#Q10. In what ways is the Eigen-Decomposition approach useful in data analysis and machine learning?\n",
    "#Discuss at least three specific applications or techniques that rely on Eigen-Decomposition."
   ]
  },
  {
   "cell_type": "code",
   "execution_count": 21,
   "id": "6efc7d07-d53c-4811-919b-2cb5a826a416",
   "metadata": {},
   "outputs": [],
   "source": [
    "#Eigendecomposition provides us with a tool to decompose a matrix by discovering the eigenvalues and the \n",
    "#eigenvectors. This operation can prove useful since it allows certain matrix operations to be easier to \n",
    "#perform and it also tells us important facts about the matrix itself.\n",
    "#Prerequisite to determining the eigenvectors and eigenspaces of a matrix is the calculation of the eigenvalues.\n",
    "#Machine Learning – Eigenvalues are used to identify features of large data sets to perform dimensionality \n",
    "#reduction, allowing for prioritizing computational resources."
   ]
  },
  {
   "cell_type": "code",
   "execution_count": null,
   "id": "7643e4f3-ade0-41c5-b2fc-2ea1795ffa8d",
   "metadata": {},
   "outputs": [],
   "source": []
  },
  {
   "cell_type": "code",
   "execution_count": null,
   "id": "3f2930b9-b5e2-4c1d-8753-e97668985184",
   "metadata": {},
   "outputs": [],
   "source": []
  },
  {
   "cell_type": "code",
   "execution_count": null,
   "id": "ca093c8f-2e31-4d6f-b74f-80ce420d17ce",
   "metadata": {},
   "outputs": [],
   "source": []
  }
 ],
 "metadata": {
  "kernelspec": {
   "display_name": "Python 3 (ipykernel)",
   "language": "python",
   "name": "python3"
  },
  "language_info": {
   "codemirror_mode": {
    "name": "ipython",
    "version": 3
   },
   "file_extension": ".py",
   "mimetype": "text/x-python",
   "name": "python",
   "nbconvert_exporter": "python",
   "pygments_lexer": "ipython3",
   "version": "3.10.8"
  }
 },
 "nbformat": 4,
 "nbformat_minor": 5
}
